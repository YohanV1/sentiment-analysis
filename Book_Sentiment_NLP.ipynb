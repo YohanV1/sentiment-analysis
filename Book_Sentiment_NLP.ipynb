{
 "cells": [
  {
   "cell_type": "markdown",
   "id": "f15de52e-70d3-41d4-8021-ea798e247583",
   "metadata": {
    "jp-MarkdownHeadingCollapsed": true,
    "tags": []
   },
   "source": [
    "# Loading the book"
   ]
  },
  {
   "cell_type": "code",
   "execution_count": 1,
   "id": "37747e38-7aca-471c-a47f-dd4a9d760d50",
   "metadata": {
    "tags": []
   },
   "outputs": [],
   "source": [
    "with open(\"miracle_in_the_andes.txt\", \"r\") as file:\n",
    "    book = file.read()"
   ]
  },
  {
   "cell_type": "markdown",
   "id": "5cb4d5a8-9463-4512-a5b7-023d01bf6597",
   "metadata": {
    "jp-MarkdownHeadingCollapsed": true,
    "tags": []
   },
   "source": [
    "# The most used words (excluding articles)"
   ]
  },
  {
   "cell_type": "code",
   "execution_count": 3,
   "id": "203680fb-bada-4ece-9891-7999adc810de",
   "metadata": {
    "tags": []
   },
   "outputs": [],
   "source": [
    "import re\n",
    "pattern = re.compile(\"[a-zA-Z]+\")\n",
    "findings = re.findall(pattern, book.lower())"
   ]
  },
  {
   "cell_type": "code",
   "execution_count": 5,
   "id": "a7f84cda-731b-494d-a8fe-16b84fcb5fd7",
   "metadata": {
    "tags": []
   },
   "outputs": [
    {
     "data": {
      "text/plain": [
       "[(5346, 'the'), (2795, 'and')]"
      ]
     },
     "execution_count": 5,
     "metadata": {},
     "output_type": "execute_result"
    }
   ],
   "source": [
    "freq = {}\n",
    "for word in findings:\n",
    "    if word in freq.keys():\n",
    "        freq[word] = freq[word] + 1\n",
    "    else:\n",
    "        freq[word] = 1\n",
    "freq_list = [(value, key) for (key, value) in freq.items()]\n",
    "freq_list = sorted(freq_list, reverse=True)\n",
    "freq_list[:2]"
   ]
  },
  {
   "cell_type": "code",
   "execution_count": 6,
   "id": "fe465e4a-b758-4d5f-bda7-5f3e31447152",
   "metadata": {
    "tags": []
   },
   "outputs": [],
   "source": [
    "import nltk\n",
    "from nltk.corpus import stopwords\n",
    "english_stopwords = stopwords.words(\"english\")"
   ]
  },
  {
   "cell_type": "code",
   "execution_count": 9,
   "id": "e54f184c-f592-4b00-a940-aa03a533cbfa",
   "metadata": {
    "tags": []
   },
   "outputs": [
    {
     "data": {
      "text/plain": [
       "[(575, 'would'), (519, 'us'), (292, 'said'), (284, 'roberto'), (252, 'could')]"
      ]
     },
     "execution_count": 9,
     "metadata": {},
     "output_type": "execute_result"
    }
   ],
   "source": [
    "filtered_words = []\n",
    "for count, word in freq_list:\n",
    "    if word not in english_stopwords:\n",
    "        filtered_words.append((count, word))\n",
    "filtered_words[:5]"
   ]
  },
  {
   "cell_type": "markdown",
   "id": "94e98f13-6ed2-4d04-906f-783df253d4af",
   "metadata": {
    "jp-MarkdownHeadingCollapsed": true,
    "tags": []
   },
   "source": [
    "# Sentiment Analysis: The most positive and negative chapter"
   ]
  },
  {
   "cell_type": "code",
   "execution_count": 11,
   "id": "5d958b70-0739-4ca7-8c67-65054a43bf75",
   "metadata": {
    "tags": []
   },
   "outputs": [],
   "source": [
    "from nltk.sentiment import SentimentIntensityAnalyzer"
   ]
  },
  {
   "cell_type": "code",
   "execution_count": 17,
   "id": "11704901-e17f-4718-b491-ffad88f0f6c7",
   "metadata": {
    "tags": []
   },
   "outputs": [],
   "source": [
    "analyzer = SentimentIntensityAnalyzer()"
   ]
  },
  {
   "cell_type": "code",
   "execution_count": 49,
   "id": "389825cd-6c8b-4edd-827c-f5cb3809d2c2",
   "metadata": {
    "tags": []
   },
   "outputs": [
    {
     "name": "stdout",
     "output_type": "stream",
     "text": [
      "The most positive chapter is chapter 10: After\n",
      "The most negative chapter is chapter 3: A Promise\n"
     ]
    }
   ],
   "source": [
    "pattern = re.compile(\"Chapter [0-9]+\")\n",
    "chapters = re.split(pattern, book)[1:]\n",
    "sentiments = []\n",
    "for chapter in chapters:\n",
    "    scores = analyzer.polarity_scores(chapter)\n",
    "    sentiments.append((scores['neg'], scores['pos']))\n",
    "positive = [item[1] for item in sentiments]\n",
    "negative = [item[0] for item in sentiments]\n",
    "pos = max(positive)\n",
    "neg = max(negative)\n",
    "posindex = positive.index(pos)\n",
    "negindex = negative.index(neg)\n",
    "pattern = re.compile(\"([a-zA-Z ,]+)\\n\\n\")\n",
    "mostpositive = re.findall(pattern, chapters[posindex])\n",
    "mostnegative = re.findall(pattern, chapters[negindex])\n",
    "print(f\"The most positive chapter is chapter {posindex+1}: {mostpositive[0]}\")\n",
    "print(f\"The most negative chapter is chapter {negindex+1}: {mostnegative[0]}\")"
   ]
  }
 ],
 "metadata": {
  "kernelspec": {
   "display_name": "Python 3 (ipykernel)",
   "language": "python",
   "name": "python3"
  },
  "language_info": {
   "codemirror_mode": {
    "name": "ipython",
    "version": 3
   },
   "file_extension": ".py",
   "mimetype": "text/x-python",
   "name": "python",
   "nbconvert_exporter": "python",
   "pygments_lexer": "ipython3",
   "version": "3.11.0"
  }
 },
 "nbformat": 4,
 "nbformat_minor": 5
}
